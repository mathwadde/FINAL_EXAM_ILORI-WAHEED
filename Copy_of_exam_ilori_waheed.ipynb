{
  "nbformat": 4,
  "nbformat_minor": 0,
  "metadata": {
    "colab": {
      "provenance": [],
      "authorship_tag": "ABX9TyNPxjbHgFwSaA3is70HPyos",
      "include_colab_link": true
    },
    "kernelspec": {
      "name": "python3",
      "display_name": "Python 3"
    },
    "language_info": {
      "name": "python"
    }
  },
  "cells": [
    {
      "cell_type": "markdown",
      "metadata": {
        "id": "view-in-github",
        "colab_type": "text"
      },
      "source": [
        "<a href=\"https://colab.research.google.com/github/mathwadde/ILORI-WAHEED/blob/main/Copy_of_exam_ilori_waheed.ipynb\" target=\"_parent\"><img src=\"https://colab.research.google.com/assets/colab-badge.svg\" alt=\"Open In Colab\"/></a>"
      ]
    },
    {
      "cell_type": "markdown",
      "source": [
        "TASK 1 A for loop to print square of number between 6 to 19."
      ],
      "metadata": {
        "id": "jZK7f7M_RDWI"
      }
    },
    {
      "cell_type": "code",
      "execution_count": null,
      "metadata": {
        "colab": {
          "base_uri": "https://localhost:8080/"
        },
        "id": "rPYw4r78Qpcw",
        "outputId": "05ba4aea-6f00-4fb3-d924-604be651dfb0"
      },
      "outputs": [
        {
          "output_type": "stream",
          "name": "stdout",
          "text": [
            "36\n",
            "49\n",
            "64\n",
            "81\n",
            "100\n",
            "121\n",
            "144\n",
            "169\n",
            "196\n",
            "225\n",
            "256\n",
            "289\n",
            "324\n",
            "361\n"
          ]
        }
      ],
      "source": [
        "for i in range(6,20):\n",
        "    print(i**2)"
      ]
    },
    {
      "cell_type": "markdown",
      "source": [
        "TASK 2 Define a function Check_grade (grades) that: Takes a list of numbers (grades). For each grade, prints \"Pass\" if the grade is 81 or more. try again other wise test it with a list of at least 5 grades."
      ],
      "metadata": {
        "id": "IQTkdG6ORV36"
      }
    },
    {
      "cell_type": "code",
      "source": [
        "def Check_grade(grades):\n",
        "    for grade in grades:\n",
        "        if grade >= 81:\n",
        "            print(\"Pass\")\n",
        "        else:\n",
        "            print(\"Try again\")"
      ],
      "metadata": {
        "id": "CvMMg7qKSTWC"
      },
      "execution_count": null,
      "outputs": []
    },
    {
      "cell_type": "markdown",
      "source": [
        "TASK 3 Write a function count_vowels(text) that counts the number of vowels (a, e, i, o, u) in a given string. Print the count and also print how many times each vowel appears.\n",
        "Your string: “Data science is the civil engineering of data.”  Cathy O’Neil & Rachel Schutt\n"
      ],
      "metadata": {
        "id": "MblCvUp4SfKt"
      }
    },
    {
      "cell_type": "code",
      "source": [
        "# Function to count vowels in a given string\n",
        "def count_vowels(text):\n",
        "    vowels = (a,e,i,o,u)\n",
        "    text = (d,a,t,a,s,c,i,e,n,c,e,i,s,t,h,e,c,i,v,i,l,e,n,g,i,n,e,e,r,i,n,g,o,f,d,a,t,a)\n",
        "    for i in vowels:\n",
        "        count_vowels = text.count(i)\n",
        "        print(i, count_vowels)\n",
        "\n",
        "\n"
      ],
      "metadata": {
        "id": "R-I3bfX8Sqfz"
      },
      "execution_count": null,
      "outputs": []
    },
    {
      "cell_type": "markdown",
      "source": [
        "TASK 4: You are designing a simple data collection tool where users keep entering numbers until they decide to stop. This is useful in real-life scenarios such as survey inputs, form data, or sensor readings. Write a program that:\n",
        "1. Asks the user to enter numbers one by one.\n",
        "2. Keeps storing them in a list.\n",
        "3. The loop continues until the user enters \"done\" (case insensitive).\n",
        "4. After exiting the loop, the program prints:The total number of values entered and The average of the numbers (rounded to 2 decimal places).\n",
        "Skip empty inputs or non-numeric entries with a message like \"Invalid input. Try again.\"\n",
        "Use a while loop.\n"
      ],
      "metadata": {
        "id": "RC1WreZhVR7c"
      }
    },
    {
      "cell_type": "code",
      "source": [
        "#  Collect numbers from user input until \"done\" is entered\n",
        " # Initialize empty list to store numbers\n",
        "numbers = []\n",
        "# Ask for input\n",
        "while True:\n",
        "    user_input = input(\"Enter a number (or type 'done' to finish): \")\n",
        "    # Exit the loop\n",
        "    if user_input.lower() == 'done':  # Check if user wants to stop\n",
        "        break\n",
        "\n",
        "    if user_input.strip() == \"\":  # Skip empty inputs\n",
        "        print(\"Invalid input. Try again.\")\n",
        "        continue\n",
        "\n",
        "    try:\n",
        "        number = float(user_input)  # Try to convert input to a number\n",
        "        numbers.append(number)  # Add the number to the list\n",
        "    except ValueError:\n",
        "        print(\"Invalid input. Try again.\")  # If conversion fails, show error\n",
        "\n",
        "# After loop ends, check if any numbers were entered\n",
        "if numbers:\n",
        "    total = len(numbers)  # Count of numbers\n",
        "    average = round(sum(numbers) / total, 2)  # Calculate average\n",
        "    print(f\"Total numbers entered: {total}\")\n",
        "    print(f\"Average: {average}\")\n",
        "else:\n",
        "    print(\"No valid numbers were entered.\")\n"
      ],
      "metadata": {
        "colab": {
          "base_uri": "https://localhost:8080/",
          "height": 375
        },
        "id": "2g0MjpAYVohY",
        "outputId": "bad0d8e5-f1e6-413e-9ca4-41ae3f2d8af1"
      },
      "execution_count": null,
      "outputs": [
        {
          "output_type": "error",
          "ename": "KeyboardInterrupt",
          "evalue": "Interrupted by user",
          "traceback": [
            "\u001b[0;31m---------------------------------------------------------------------------\u001b[0m",
            "\u001b[0;31mKeyboardInterrupt\u001b[0m                         Traceback (most recent call last)",
            "\u001b[0;32m/tmp/ipython-input-8-1819866844.py\u001b[0m in \u001b[0;36m<cell line: 0>\u001b[0;34m()\u001b[0m\n\u001b[1;32m      4\u001b[0m \u001b[0;31m# Ask for input\u001b[0m\u001b[0;34m\u001b[0m\u001b[0;34m\u001b[0m\u001b[0m\n\u001b[1;32m      5\u001b[0m \u001b[0;32mwhile\u001b[0m \u001b[0;32mTrue\u001b[0m\u001b[0;34m:\u001b[0m\u001b[0;34m\u001b[0m\u001b[0;34m\u001b[0m\u001b[0m\n\u001b[0;32m----> 6\u001b[0;31m     \u001b[0muser_input\u001b[0m \u001b[0;34m=\u001b[0m \u001b[0minput\u001b[0m\u001b[0;34m(\u001b[0m\u001b[0;34m\"Enter a number (or type 'done' to finish): \"\u001b[0m\u001b[0;34m)\u001b[0m\u001b[0;34m\u001b[0m\u001b[0;34m\u001b[0m\u001b[0m\n\u001b[0m\u001b[1;32m      7\u001b[0m     \u001b[0;31m# Exit the loop\u001b[0m\u001b[0;34m\u001b[0m\u001b[0;34m\u001b[0m\u001b[0m\n\u001b[1;32m      8\u001b[0m     \u001b[0;32mif\u001b[0m \u001b[0muser_input\u001b[0m\u001b[0;34m.\u001b[0m\u001b[0mlower\u001b[0m\u001b[0;34m(\u001b[0m\u001b[0;34m)\u001b[0m \u001b[0;34m==\u001b[0m \u001b[0;34m'done'\u001b[0m\u001b[0;34m:\u001b[0m  \u001b[0;31m# Check if user wants to stop\u001b[0m\u001b[0;34m\u001b[0m\u001b[0;34m\u001b[0m\u001b[0m\n",
            "\u001b[0;32m/usr/local/lib/python3.11/dist-packages/ipykernel/kernelbase.py\u001b[0m in \u001b[0;36mraw_input\u001b[0;34m(self, prompt)\u001b[0m\n\u001b[1;32m   1175\u001b[0m                 \u001b[0;34m\"raw_input was called, but this frontend does not support input requests.\"\u001b[0m\u001b[0;34m\u001b[0m\u001b[0;34m\u001b[0m\u001b[0m\n\u001b[1;32m   1176\u001b[0m             )\n\u001b[0;32m-> 1177\u001b[0;31m         return self._input_request(\n\u001b[0m\u001b[1;32m   1178\u001b[0m             \u001b[0mstr\u001b[0m\u001b[0;34m(\u001b[0m\u001b[0mprompt\u001b[0m\u001b[0;34m)\u001b[0m\u001b[0;34m,\u001b[0m\u001b[0;34m\u001b[0m\u001b[0;34m\u001b[0m\u001b[0m\n\u001b[1;32m   1179\u001b[0m             \u001b[0mself\u001b[0m\u001b[0;34m.\u001b[0m\u001b[0m_parent_ident\u001b[0m\u001b[0;34m[\u001b[0m\u001b[0;34m\"shell\"\u001b[0m\u001b[0;34m]\u001b[0m\u001b[0;34m,\u001b[0m\u001b[0;34m\u001b[0m\u001b[0;34m\u001b[0m\u001b[0m\n",
            "\u001b[0;32m/usr/local/lib/python3.11/dist-packages/ipykernel/kernelbase.py\u001b[0m in \u001b[0;36m_input_request\u001b[0;34m(self, prompt, ident, parent, password)\u001b[0m\n\u001b[1;32m   1217\u001b[0m             \u001b[0;32mexcept\u001b[0m \u001b[0mKeyboardInterrupt\u001b[0m\u001b[0;34m:\u001b[0m\u001b[0;34m\u001b[0m\u001b[0;34m\u001b[0m\u001b[0m\n\u001b[1;32m   1218\u001b[0m                 \u001b[0;31m# re-raise KeyboardInterrupt, to truncate traceback\u001b[0m\u001b[0;34m\u001b[0m\u001b[0;34m\u001b[0m\u001b[0m\n\u001b[0;32m-> 1219\u001b[0;31m                 \u001b[0;32mraise\u001b[0m \u001b[0mKeyboardInterrupt\u001b[0m\u001b[0;34m(\u001b[0m\u001b[0;34m\"Interrupted by user\"\u001b[0m\u001b[0;34m)\u001b[0m \u001b[0;32mfrom\u001b[0m \u001b[0;32mNone\u001b[0m\u001b[0;34m\u001b[0m\u001b[0;34m\u001b[0m\u001b[0m\n\u001b[0m\u001b[1;32m   1220\u001b[0m             \u001b[0;32mexcept\u001b[0m \u001b[0mException\u001b[0m\u001b[0;34m:\u001b[0m\u001b[0;34m\u001b[0m\u001b[0;34m\u001b[0m\u001b[0m\n\u001b[1;32m   1221\u001b[0m                 \u001b[0mself\u001b[0m\u001b[0;34m.\u001b[0m\u001b[0mlog\u001b[0m\u001b[0;34m.\u001b[0m\u001b[0mwarning\u001b[0m\u001b[0;34m(\u001b[0m\u001b[0;34m\"Invalid Message:\"\u001b[0m\u001b[0;34m,\u001b[0m \u001b[0mexc_info\u001b[0m\u001b[0;34m=\u001b[0m\u001b[0;32mTrue\u001b[0m\u001b[0;34m)\u001b[0m\u001b[0;34m\u001b[0m\u001b[0;34m\u001b[0m\u001b[0m\n",
            "\u001b[0;31mKeyboardInterrupt\u001b[0m: Interrupted by user"
          ]
        }
      ]
    },
    {
      "cell_type": "markdown",
      "source": [
        "Task 5: You are analyzing customer purchase data where each customer can make multiple purchases. The data is stored in a list of tuples like this\n",
        "[(\"Alice\", 120), (\"Bob\", 80), (\"Alice\", 50), (\"Bob\", 20), (\"Clara\", 200)]\n",
        "Write a program that:\n",
        "1. Iterates over the list of purchases.\n",
        "2. Stores total purchases per customer using a dictionary.\n",
        "3. Prints out how much each customer spent in total.\n",
        "Expected Output Example:\n",
        "Alice spent $170\n",
        "Bob spent $100 …\n"
      ],
      "metadata": {
        "id": "HAI6sc6lWvQ0"
      }
    },
    {
      "cell_type": "code",
      "source": [
        "# iterares over the list of purchase\n",
        "Purchase = [(\"Alice\", 120), (\"Bob\", 80), (\"Alice\", 50), (\"Bob\", 20), (\"Clara\", 200)]\n",
        "for names, amount in Purchase:\n",
        "    print(f\"{names} : spent ${amount}\")\n",
        "# store total purchase per customer into dict\n",
        "\n",
        "from collections import defaultdict\n",
        "\n",
        "data = [(\"Alice\", 120), (\"Bob\", 80), (\"Alice\", 50), (\"Bob\", 20), (\"Clara\", 200)]\n",
        "\n",
        "result = defaultdict(int)\n",
        "\n",
        "for key, value in data:\n",
        "    result[key] += value\n",
        "\n",
        "print(dict(result))\n",
        "\n"
      ],
      "metadata": {
        "colab": {
          "base_uri": "https://localhost:8080/"
        },
        "id": "A3ntWrqfXLeb",
        "outputId": "a8223e82-df1a-4cc7-e95c-c55853598322"
      },
      "execution_count": null,
      "outputs": [
        {
          "output_type": "stream",
          "name": "stdout",
          "text": [
            "Alice : spent $120\n",
            "Bob : spent $80\n",
            "Alice : spent $50\n",
            "Bob : spent $20\n",
            "Clara : spent $200\n",
            "{'Alice': 170, 'Bob': 100, 'Clara': 200}\n"
          ]
        }
      ]
    },
    {
      "cell_type": "markdown",
      "source": [
        "TASK6: Use the wbdata package to get Population data for the country: Tuvalu from 2010 to 2020. Print the results in a readable way (country, year, population)"
      ],
      "metadata": {
        "id": "EdUA-Yr6ZqwR"
      }
    },
    {
      "cell_type": "code",
      "source": [
        "import wbdata  # Import the World Bank data package\n",
        "import datetime  # Import datetime for date formatting\n",
        "\n",
        "# Define country code for Tuvalu\n",
        "country_code = \"TV\"\n",
        "\n",
        "# Define the data indicator for population\n",
        "indicator = {\"SP.POP.TOTL\": \"Population\"}\n",
        "\n",
        "# Set the date range from 2010 to 2020\n",
        "start_date = datetime.datetime(2010, 1, 1)\n",
        "end_date = datetime.datetime(2020, 12, 31)\n",
        "\n",
        "# Fetch the data from wbdata\n",
        "data = wbdata.get_dataframe(indicator, country=country_code, data_date=(start_date, end_date))\n",
        "\n",
        "# Drop missing values and sort by date descending\n",
        "data = data.dropna().sort_index(ascending=False)\n",
        "\n",
        "# Print the results in a readable format\n",
        "for date, row in data.iterrows():\n",
        "    print(f\"Tuvalu - Year: {date.year}, Population: {int(row['Population'])}\")"
      ],
      "metadata": {
        "colab": {
          "base_uri": "https://localhost:8080/",
          "height": 403
        },
        "collapsed": true,
        "id": "mXX0z8FMaYl2",
        "outputId": "a130bdd0-5362-4632-e1ea-5957e2453f23"
      },
      "execution_count": null,
      "outputs": [
        {
          "output_type": "error",
          "ename": "ModuleNotFoundError",
          "evalue": "No module named 'wbdata'",
          "traceback": [
            "\u001b[0;31m---------------------------------------------------------------------------\u001b[0m",
            "\u001b[0;31mModuleNotFoundError\u001b[0m                       Traceback (most recent call last)",
            "\u001b[0;32m/tmp/ipython-input-19-220729228.py\u001b[0m in \u001b[0;36m<cell line: 0>\u001b[0;34m()\u001b[0m\n\u001b[0;32m----> 1\u001b[0;31m \u001b[0;32mimport\u001b[0m \u001b[0mwbdata\u001b[0m  \u001b[0;31m# Import the World Bank data package\u001b[0m\u001b[0;34m\u001b[0m\u001b[0;34m\u001b[0m\u001b[0m\n\u001b[0m\u001b[1;32m      2\u001b[0m \u001b[0;32mimport\u001b[0m \u001b[0mdatetime\u001b[0m  \u001b[0;31m# Import datetime for date formatting\u001b[0m\u001b[0;34m\u001b[0m\u001b[0;34m\u001b[0m\u001b[0m\n\u001b[1;32m      3\u001b[0m \u001b[0;34m\u001b[0m\u001b[0m\n\u001b[1;32m      4\u001b[0m \u001b[0;31m# Define country code for Tuvalu\u001b[0m\u001b[0;34m\u001b[0m\u001b[0;34m\u001b[0m\u001b[0m\n\u001b[1;32m      5\u001b[0m \u001b[0mcountry_code\u001b[0m \u001b[0;34m=\u001b[0m \u001b[0;34m\"TV\"\u001b[0m\u001b[0;34m\u001b[0m\u001b[0;34m\u001b[0m\u001b[0m\n",
            "\u001b[0;31mModuleNotFoundError\u001b[0m: No module named 'wbdata'",
            "",
            "\u001b[0;31m---------------------------------------------------------------------------\u001b[0;32m\nNOTE: If your import is failing due to a missing package, you can\nmanually install dependencies using either !pip or !apt.\n\nTo view examples of installing some common dependencies, click the\n\"Open Examples\" button below.\n\u001b[0;31m---------------------------------------------------------------------------\u001b[0m\n"
          ],
          "errorDetails": {
            "actions": [
              {
                "action": "open_url",
                "actionText": "Open Examples",
                "url": "/notebooks/snippets/importing_libraries.ipynb"
              }
            ]
          }
        }
      ]
    },
    {
      "cell_type": "markdown",
      "source": [
        "PART 2 Instructions"
      ],
      "metadata": {
        "id": "R6TW9Y-BdBXI"
      }
    },
    {
      "cell_type": "code",
      "source": [],
      "metadata": {
        "id": "gfyQyMaucl8m"
      },
      "execution_count": null,
      "outputs": []
    }
  ]
}